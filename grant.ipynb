{
 "cells": [
  {
   "cell_type": "code",
   "id": "initial_id",
   "metadata": {
    "collapsed": true,
    "ExecuteTime": {
     "end_time": "2024-09-24T17:35:31.443769Z",
     "start_time": "2024-09-24T17:35:29.270241Z"
    }
   },
   "source": [
    "import jax.numpy as jnp\n",
    "from jax import grad, jit, vmap\n",
    "from jax import random\n",
    "\n",
    "import matplotlib.pyplot as plt\n",
    "\n",
    "import numpy as np\n",
    "from qtconsole.mainwindow import background\n",
    "\n",
    "from Utils.models import *\n",
    "from Utils.simulation import *\n",
    "from Utils.plot_utils import *\n",
    "\n",
    "import time\n",
    "from copy import copy\n",
    "\n",
    "%load_ext autoreload\n",
    "%autoreload 2"
   ],
   "outputs": [],
   "execution_count": 1
  },
  {
   "metadata": {
    "ExecuteTime": {
     "end_time": "2024-10-17T11:11:37.407176Z",
     "start_time": "2024-10-17T11:11:36.884801Z"
    }
   },
   "cell_type": "code",
   "source": [
    "import json\n",
    "\n",
    "# Create a dictionary to store the parameters\n",
    "params_dict = {\n",
    "    \"dataset_parameters\": {\n",
    "        \"n_samples\": 200\n",
    "    },\n",
    "    \"network_parameters\": {\n",
    "        \"input_size\": 2**6,\n",
    "        \"hidden_size\": 2**7,\n",
    "        \"output_size\": 1,\n",
    "        \"bias\": 1,\n",
    "    },\n",
    "    \"training_parameters\": {\n",
    "        \"num_epochs\": 50,\n",
    "        \"learning_rate\": 0.1\n",
    "    },\n",
    "    \"simulation_parameters\": {\n",
    "        \"mu\": 1,\n",
    "        \"sigma\": 0.1,\n",
    "        \"theta\": 0.05,\n",
    "        \"dt\": 0.001\n",
    "    },\n",
    "    \"seed\": 42\n",
    "}\n",
    "\n",
    "# Save the dictionary as a JSON file\n",
    "# with open('simulation_parameters.json', 'w') as json_file:\n",
    "#     json.dump(params_dict, json_file, indent=4)\n",
    "rng = random.key(params_dict[\"seed\"])"
   ],
   "id": "482a043a6068c150",
   "outputs": [
    {
     "ename": "NameError",
     "evalue": "name 'random' is not defined",
     "output_type": "error",
     "traceback": [
      "\u001B[0;31m---------------------------------------------------------------------------\u001B[0m",
      "\u001B[0;31mNameError\u001B[0m                                 Traceback (most recent call last)",
      "Cell \u001B[0;32mIn[1], line 30\u001B[0m\n\u001B[1;32m      4\u001B[0m params_dict \u001B[38;5;241m=\u001B[39m {\n\u001B[1;32m      5\u001B[0m     \u001B[38;5;124m\"\u001B[39m\u001B[38;5;124mdataset_parameters\u001B[39m\u001B[38;5;124m\"\u001B[39m: {\n\u001B[1;32m      6\u001B[0m         \u001B[38;5;124m\"\u001B[39m\u001B[38;5;124mn_samples\u001B[39m\u001B[38;5;124m\"\u001B[39m: \u001B[38;5;241m200\u001B[39m\n\u001B[0;32m   (...)\u001B[0m\n\u001B[1;32m     24\u001B[0m     \u001B[38;5;124m\"\u001B[39m\u001B[38;5;124mseed\u001B[39m\u001B[38;5;124m\"\u001B[39m: \u001B[38;5;241m42\u001B[39m\n\u001B[1;32m     25\u001B[0m }\n\u001B[1;32m     27\u001B[0m \u001B[38;5;66;03m# Save the dictionary as a JSON file\u001B[39;00m\n\u001B[1;32m     28\u001B[0m \u001B[38;5;66;03m# with open('simulation_parameters.json', 'w') as json_file:\u001B[39;00m\n\u001B[1;32m     29\u001B[0m \u001B[38;5;66;03m#     json.dump(params_dict, json_file, indent=4)\u001B[39;00m\n\u001B[0;32m---> 30\u001B[0m rng \u001B[38;5;241m=\u001B[39m random\u001B[38;5;241m.\u001B[39mkey(params_dict[\u001B[38;5;124m\"\u001B[39m\u001B[38;5;124mseed\u001B[39m\u001B[38;5;124m\"\u001B[39m])\n",
      "\u001B[0;31mNameError\u001B[0m: name 'random' is not defined"
     ]
    }
   ],
   "execution_count": 1
  },
  {
   "metadata": {
    "ExecuteTime": {
     "end_time": "2024-09-24T17:35:36.023125Z",
     "start_time": "2024-09-24T17:35:31.988618Z"
    }
   },
   "cell_type": "code",
   "source": [
    "mu_LN = mu_LN_from_params(**params_dict[\"simulation_parameters\"])\n",
    "sigma_LN = sigma_LN_from_params(**params_dict[\"simulation_parameters\"])\n",
    "\n",
    "rng, net_key = random.split(rng)\n",
    "base_params = init_mlp(net_key, mu_LN, sigma_LN, **params_dict[\"network_parameters\"])"
   ],
   "id": "be534c32af897b4b",
   "outputs": [],
   "execution_count": 3
  },
  {
   "metadata": {
    "ExecuteTime": {
     "end_time": "2024-09-24T17:35:38.794541Z",
     "start_time": "2024-09-24T17:35:37.091726Z"
    }
   },
   "cell_type": "code",
   "source": [
    "rng, data_key = random.split(rng)\n",
    "\n",
    "X_train, y_train = create_binary_dataset(data_key, n_samples=params_dict[\"dataset_parameters\"][\"n_samples\"], input_dim=params_dict[\"network_parameters\"][\"input_size\"])"
   ],
   "id": "8aafbe37d728634f",
   "outputs": [],
   "execution_count": 4
  },
  {
   "metadata": {
    "ExecuteTime": {
     "end_time": "2024-09-24T18:03:28.537704Z",
     "start_time": "2024-09-24T17:48:53.108720Z"
    }
   },
   "cell_type": "code",
   "source": [
    "sigmas_list = [0, 0.1, 0.2, 0.5, 1]\n",
    "\n",
    "training_parameters = params_dict[\"training_parameters\"]\n",
    "num_epochs = training_parameters[\"num_epochs\"]\n",
    "learning_rate = training_parameters[\"learning_rate\"]\n",
    "simulation_parameters = params_dict[\"simulation_parameters\"]\n",
    "\n",
    "total_acc_list = []\n",
    "\n",
    "for sig in sigmas_list:\n",
    "    simulation_parameters[\"sigma\"] = sig\n",
    "    params=copy(base_params)\n",
    "    \n",
    "    print(\"Sigma: \", sig)\n",
    "    \n",
    "    acc_list = []\n",
    "    for epoch in range(num_epochs):\n",
    "        start_time = time.time()\n",
    "        for x,y in zip(X_train,y_train):\n",
    "    \n",
    "            rng, gou_key = random.split(rng)\n",
    "    \n",
    "            grads = grad(loss_mlp)(params, x, y)\n",
    "            params['W_i'] -= learning_rate*grads['W_i']\n",
    "            params['W_h'] -= learning_rate*grads['W_h']-perturb_GOU(gou_key, params['W_h'],  **simulation_parameters )\n",
    "            params['W_o'] -= learning_rate*grads['W_o']\n",
    "    \n",
    "    \n",
    "    \n",
    "    \n",
    "        acc_list.append(accuracy_mlp(params, X_train, y_train))\n",
    "       \n",
    "    \n",
    "\n",
    "        if epoch%10==0:\n",
    "            epoch_time = time.time() - start_time\n",
    "            train_loss = loss_mlp(params, X_train, y_train)\n",
    "            train_acc = accuracy_mlp(params, X_train, y_train)\n",
    "            print(\"Epoch {} in {:0.2f} sec\".format(epoch, epoch_time))\n",
    "            print(\"Training set loss {}\".format(train_loss))\n",
    "            print(\"Training set accuracy {}\".format(train_acc))\n",
    "\n",
    "\n",
    "    for epoch in range(num_epochs):\n",
    "        start_time = time.time()\n",
    "        for x,y in zip(X_train,y_train):\n",
    "    \n",
    "    \n",
    "            rng, gou_key = random.split(rng)\n",
    "            params['W_h'] += perturb_GOU(gou_key, params['W_h'],  **simulation_parameters )\n",
    "    \n",
    "        acc_list.append(accuracy_mlp(params, X_train, y_train))\n",
    "    \n",
    "        if epoch%10==0:\n",
    "            epoch_time = time.time() - start_time\n",
    "            train_loss = loss_mlp(params, X_train, y_train)\n",
    "            train_acc = accuracy_mlp(params, X_train, y_train)\n",
    "            print(\"Epoch {} in {:0.2f} sec\".format(epoch, epoch_time))\n",
    "            print(\"Test set loss {}\".format(train_loss))\n",
    "            print(\"Test set accuracy {}\".format(train_acc))\n",
    "            \n",
    "    total_acc_list.append(acc_list)"
   ],
   "id": "69741d9f3e467704",
   "outputs": [
    {
     "name": "stdout",
     "output_type": "stream",
     "text": [
      "Sigma:  0\n",
      "Epoch 0 in 3.76 sec\n",
      "Training set loss 2.760960578918457\n",
      "Training set accuracy 0.550000011920929\n",
      "Epoch 10 in 3.26 sec\n",
      "Training set loss 0.904561460018158\n",
      "Training set accuracy 0.75\n",
      "Epoch 20 in 3.24 sec\n",
      "Training set loss 0.6486820578575134\n",
      "Training set accuracy 0.7899999618530273\n",
      "Epoch 30 in 3.28 sec\n",
      "Training set loss 0.3420526385307312\n",
      "Training set accuracy 0.8849999904632568\n",
      "Epoch 40 in 3.26 sec\n",
      "Training set loss 0.0013682972639799118\n",
      "Training set accuracy 1.0\n",
      "Epoch 0 in 0.23 sec\n",
      "Test set loss 0.0008464914280921221\n",
      "Test set accuracy 1.0\n",
      "Epoch 10 in 0.22 sec\n",
      "Test set loss 0.0008585884352214634\n",
      "Test set accuracy 1.0\n",
      "Epoch 20 in 0.22 sec\n",
      "Test set loss 0.0008718660101294518\n",
      "Test set accuracy 1.0\n",
      "Epoch 30 in 0.23 sec\n",
      "Test set loss 0.0008863371913321316\n",
      "Test set accuracy 1.0\n",
      "Epoch 40 in 0.22 sec\n",
      "Test set loss 0.0009021119331009686\n",
      "Test set accuracy 1.0\n",
      "Sigma:  0.1\n",
      "Epoch 0 in 3.24 sec\n",
      "Training set loss 2.7820653915405273\n",
      "Training set accuracy 0.550000011920929\n",
      "Epoch 10 in 3.21 sec\n",
      "Training set loss 3.060988664627075\n",
      "Training set accuracy 0.5649999976158142\n",
      "Epoch 20 in 3.25 sec\n",
      "Training set loss 0.4462957978248596\n",
      "Training set accuracy 0.8700000047683716\n",
      "Epoch 30 in 3.34 sec\n",
      "Training set loss 0.7173961997032166\n",
      "Training set accuracy 0.8050000071525574\n",
      "Epoch 40 in 3.29 sec\n",
      "Training set loss 0.0045397006906569\n",
      "Training set accuracy 1.0\n",
      "Epoch 0 in 0.22 sec\n",
      "Test set loss 0.0035036627668887377\n",
      "Test set accuracy 1.0\n",
      "Epoch 10 in 0.29 sec\n",
      "Test set loss 0.024571940302848816\n",
      "Test set accuracy 0.9899999499320984\n",
      "Epoch 20 in 0.22 sec\n",
      "Test set loss 0.18037372827529907\n",
      "Test set accuracy 0.9350000023841858\n",
      "Epoch 30 in 0.23 sec\n",
      "Test set loss 0.13609455525875092\n",
      "Test set accuracy 0.9350000023841858\n",
      "Epoch 40 in 0.23 sec\n",
      "Test set loss 0.08028679341077805\n",
      "Test set accuracy 0.9699999690055847\n",
      "Sigma:  0.2\n",
      "Epoch 0 in 3.27 sec\n",
      "Training set loss 2.7857582569122314\n",
      "Training set accuracy 0.550000011920929\n",
      "Epoch 10 in 3.24 sec\n",
      "Training set loss 1.220314621925354\n",
      "Training set accuracy 0.6499999761581421\n",
      "Epoch 20 in 3.24 sec\n",
      "Training set loss 0.7757917046546936\n",
      "Training set accuracy 0.7699999809265137\n",
      "Epoch 30 in 3.20 sec\n",
      "Training set loss 0.15838195383548737\n",
      "Training set accuracy 0.9350000023841858\n",
      "Epoch 40 in 3.25 sec\n",
      "Training set loss 0.02140386961400509\n",
      "Training set accuracy 0.9899999499320984\n",
      "Epoch 0 in 0.22 sec\n",
      "Test set loss 0.0011771890567615628\n",
      "Test set accuracy 1.0\n",
      "Epoch 10 in 0.22 sec\n",
      "Test set loss 0.01087684091180563\n",
      "Test set accuracy 0.9950000047683716\n",
      "Epoch 20 in 0.22 sec\n",
      "Test set loss 0.031841594725847244\n",
      "Test set accuracy 0.98499995470047\n",
      "Epoch 30 in 0.23 sec\n",
      "Test set loss 0.05715252831578255\n",
      "Test set accuracy 0.9749999642372131\n",
      "Epoch 40 in 0.22 sec\n",
      "Test set loss 0.40935298800468445\n",
      "Test set accuracy 0.9049999713897705\n",
      "Sigma:  0.5\n",
      "Epoch 0 in 3.27 sec\n",
      "Training set loss 2.7886297702789307\n",
      "Training set accuracy 0.550000011920929\n",
      "Epoch 10 in 3.26 sec\n",
      "Training set loss 0.7582103610038757\n",
      "Training set accuracy 0.7949999570846558\n",
      "Epoch 20 in 3.22 sec\n",
      "Training set loss 0.30269959568977356\n",
      "Training set accuracy 0.9099999666213989\n",
      "Epoch 30 in 3.31 sec\n",
      "Training set loss 0.34045371413230896\n",
      "Training set accuracy 0.9199999570846558\n",
      "Epoch 40 in 3.30 sec\n",
      "Training set loss 0.05541214346885681\n",
      "Training set accuracy 0.9799999594688416\n",
      "Epoch 0 in 0.23 sec\n",
      "Test set loss 0.5290818810462952\n",
      "Test set accuracy 0.8299999833106995\n",
      "Epoch 10 in 0.22 sec\n",
      "Test set loss 1.6019086837768555\n",
      "Test set accuracy 0.6399999856948853\n",
      "Epoch 20 in 0.22 sec\n",
      "Test set loss 1.3083484172821045\n",
      "Test set accuracy 0.6499999761581421\n",
      "Epoch 30 in 0.22 sec\n",
      "Test set loss 2.047950029373169\n",
      "Test set accuracy 0.6200000047683716\n",
      "Epoch 40 in 0.22 sec\n",
      "Test set loss 2.3797333240509033\n",
      "Test set accuracy 0.5799999833106995\n",
      "Sigma:  1\n",
      "Epoch 0 in 3.23 sec\n",
      "Training set loss 2.5824408531188965\n",
      "Training set accuracy 0.550000011920929\n",
      "Epoch 10 in 3.22 sec\n",
      "Training set loss 1.2147613763809204\n",
      "Training set accuracy 0.6449999809265137\n",
      "Epoch 20 in 3.23 sec\n",
      "Training set loss 0.5449290871620178\n",
      "Training set accuracy 0.7849999666213989\n",
      "Epoch 30 in 3.25 sec\n",
      "Training set loss nan\n",
      "Training set accuracy 0.44999998807907104\n",
      "Epoch 40 in 3.25 sec\n",
      "Training set loss nan\n",
      "Training set accuracy 0.44999998807907104\n",
      "Epoch 0 in 0.22 sec\n",
      "Test set loss nan\n",
      "Test set accuracy 0.44999998807907104\n",
      "Epoch 10 in 0.23 sec\n",
      "Test set loss nan\n",
      "Test set accuracy 0.44999998807907104\n",
      "Epoch 20 in 0.23 sec\n",
      "Test set loss nan\n",
      "Test set accuracy 0.44999998807907104\n",
      "Epoch 30 in 0.22 sec\n",
      "Test set loss nan\n",
      "Test set accuracy 0.44999998807907104\n",
      "Epoch 40 in 0.23 sec\n",
      "Test set loss nan\n",
      "Test set accuracy 0.44999998807907104\n"
     ]
    }
   ],
   "execution_count": 12
  },
  {
   "metadata": {
    "ExecuteTime": {
     "end_time": "2024-09-24T23:54:12.591484Z",
     "start_time": "2024-09-24T23:54:10.134694Z"
    }
   },
   "cell_type": "code",
   "source": [
    "# Plot the results\n",
    "plt.figure(figsize=(5,3))\n",
    "for i in range(len(sigmas_list)):\n",
    "    plt.plot(total_acc_list[i], label=f'Sigma = {sigmas_list[i]}')\n",
    "#plt.plot(total_acc_list[2], label=f'Sigma = {sigmas_list[2]}')\n",
    "#plt.xlabel('Epoch')\n",
    "#plt.ylabel('Accuracy'), \n",
    "plt.ylim([0.,1.01])\n",
    "plt.legend()\n",
    "#plot a vertical line at the end of the training phase\n",
    "plt.axvline(x=num_epochs, color='k', linestyle='--')\n",
    "plt.savefig('accuracy_vs_epoch.png', dpi=1000, bbox_inches='tight', transparent=True)\n",
    "plt.show()\n"
   ],
   "id": "4a83df29a323efab",
   "outputs": [
    {
     "data": {
      "text/plain": [
       "<Figure size 500x300 with 1 Axes>"
      ],
      "image/png": "[encoded data removed]"
     },
     "metadata": {},
     "output_type": "display_data"
    }
   ],
   "execution_count": 17
  },
  {
   "metadata": {
    "ExecuteTime": {
     "end_time": "2024-09-24T17:42:32.502885732Z",
     "start_time": "2024-09-24T15:01:11.364817Z"
    }
   },
   "cell_type": "code",
   "source": "",
   "id": "63a759df84259132",
   "outputs": [],
   "execution_count": null
  },
  {
   "metadata": {
    "ExecuteTime": {
     "end_time": "2024-09-24T17:42:32.504505323Z",
     "start_time": "2024-09-24T15:01:11.409569Z"
    }
   },
   "cell_type": "code",
   "source": "",
   "id": "e2ef10502a08a85",
   "outputs": [],
   "execution_count": null
  }
 ],
 "metadata": {
  "kernelspec": {
   "display_name": "Python 3",
   "language": "python",
   "name": "python3"
  },
  "language_info": {
   "codemirror_mode": {
    "name": "ipython",
    "version": 2
   },
   "file_extension": ".py",
   "mimetype": "text/x-python",
   "name": "python",
   "nbconvert_exporter": "python",
   "pygments_lexer": "ipython2",
   "version": "2.7.6"
  }
 },
 "nbformat": 4,
 "nbformat_minor": 5
}
