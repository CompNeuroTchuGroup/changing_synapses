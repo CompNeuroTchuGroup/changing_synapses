{
 "cells": [
  {
   "cell_type": "code",
   "id": "initial_id",
   "metadata": {
    "collapsed": true,
    "ExecuteTime": {
     "end_time": "2025-04-08T15:14:06.231314Z",
     "start_time": "2025-04-08T15:14:05.681735Z"
    }
   },
   "source": [
    "import jax\n",
    "import jax.numpy as jnp\n",
    "from PIL.ImageChops import offset\n",
    "from jax import grad, jit, vmap\n",
    "from jax import random\n",
    "\n",
    "import matplotlib.pyplot as plt\n",
    "\n",
    "import numpy as np\n",
    "from qtconsole.mainwindow import background\n",
    "from scipy.stats import alpha\n",
    "from zmq import WSS_KEY_PEM\n",
    "\n",
    "from Utils.models import *\n",
    "from Utils.simulation import *\n",
    "from Utils.plot_utils import *\n",
    "\n",
    "import time\n",
    "from copy import copy\n",
    "\n",
    "\n",
    "%load_ext autoreload\n",
    "%autoreload 2"
   ],
   "outputs": [],
   "execution_count": 1
  },
  {
   "metadata": {
    "ExecuteTime": {
     "end_time": "2025-04-08T15:14:11.160928Z",
     "start_time": "2025-04-08T15:14:10.936276Z"
    }
   },
   "cell_type": "code",
   "source": [
    "\n",
    "jax.config.update(\"jax_platform_name\", \"cpu\")  # Force CPU usage\n",
    "#\n",
    "print(jax.devices())  # Should show only CpuDevice\n"
   ],
   "id": "4d398ff42ea9d172",
   "outputs": [
    {
     "name": "stdout",
     "output_type": "stream",
     "text": [
      "[CpuDevice(id=0)]\n"
     ]
    }
   ],
   "execution_count": 2
  },
  {
   "metadata": {
    "jupyter": {
     "is_executing": true
    }
   },
   "cell_type": "code",
   "source": [
    "params_dict = {\n",
    "    \"dataset_parameters\": {\n",
    "        \"n_samples\": 200\n",
    "    },\n",
    "    \"network_parameters\": {\n",
    "        \"input_size\": 64,\n",
    "        \"hidden_size\": 128,\n",
    "        \"output_size\": 1,\n",
    "        \"bias\": 1,\n",
    "    },\n",
    "    \"training_parameters\": {\n",
    "        \"num_epochs\": 100,\n",
    "        \"learning_rate\": 0.01\n",
    "    },\n",
    "    \"simulation_parameters\": {\n",
    "        \"mu\": 1,\n",
    "        \"sigma\": 0.1,\n",
    "        \"theta\": 0.02,\n",
    "        \"dt\": 0.001,\n",
    "        \"tau\": 0.002\n",
    "    },\n",
    "    \"seed\": 42\n",
    "}\n",
    "\n",
    "# set the random key\n",
    "rng = random.PRNGKey(params_dict[\"seed\"])\n"
   ],
   "id": "7bb623d15dce2df7",
   "outputs": [],
   "execution_count": null
  },
  {
   "metadata": {},
   "cell_type": "markdown",
   "source": "# Create the model",
   "id": "2780791cd423f002"
  },
  {
   "metadata": {},
   "cell_type": "code",
   "source": [
    "# mean and sigma of the lognormal distribution from the paramaters\n",
    "mu_LN = mu_LN_from_params(**params_dict[\"simulation_parameters\"])\n",
    "sigma_LN = sigma_LN_from_params(**params_dict[\"simulation_parameters\"])\n",
    "\n",
    "#initialize the 2 layer ELM\n",
    "rng, net_key = random.split(rng)\n",
    "params = init_elm(net_key, mu_LN, sigma_LN, **params_dict[\"network_parameters\"])\n",
    "print(params.keys())"
   ],
   "id": "d4581ad3a8c9cade",
   "outputs": [],
   "execution_count": null
  },
  {
   "metadata": {},
   "cell_type": "code",
   "source": [
    "rng, data_key = random.split(rng)\n",
    "\n",
    "X_train, y_train = create_binary_dataset(data_key,\n",
    "                                         n_samples=params_dict[\"dataset_parameters\"][\"n_samples\"],\n",
    "                                         input_dim=params_dict[\"network_parameters\"][\"input_size\"])\n"
   ],
   "id": "e3f076b73cae11a7",
   "outputs": [],
   "execution_count": null
  },
  {
   "metadata": {},
   "cell_type": "markdown",
   "source": [
    "### Proposed training rule\n",
    "\n",
    "Here the weights are not trained via gradient, but the means adapt"
   ],
   "id": "ddd657c1b2cbdfe3"
  },
  {
   "metadata": {},
   "cell_type": "code",
   "source": [
    "\n",
    "simulation_parameters = params_dict[\"simulation_parameters\"]\n",
    "training_parameters = params_dict[\"training_parameters\"]\n",
    "num_epochs = training_parameters[\"num_epochs\"]\n",
    "learning_rate = training_parameters[\"learning_rate\"]\n",
    "\n",
    "\n",
    "sigma = simulation_parameters[\"sigma\"]\n",
    "theta = simulation_parameters[\"theta\"]\n",
    "dt = simulation_parameters[\"dt\"]\n",
    "tau = simulation_parameters[\"tau\"]\n",
    "\n",
    "mu = jnp.ones_like(params[\"W_i\"])*simulation_parameters[\"mu\"]\n",
    "rate = 0.0001"
   ],
   "id": "579e5bf0602147b7",
   "outputs": [],
   "execution_count": null
  },
  {
   "metadata": {},
   "cell_type": "code",
   "source": "",
   "id": "8ab795b92244243b",
   "outputs": [],
   "execution_count": null
  },
  {
   "metadata": {},
   "cell_type": "code",
   "source": [
    "loss_list = []\n",
    "acc_list = []\n",
    "weight_list = []\n",
    "mu_list = []\n",
    "\n",
    "for epoch in range(num_epochs):\n",
    "    start_time = time.time()\n",
    "    for x,y in zip(X_train,y_train):\n",
    "\n",
    "        rng, gou_key = random.split(rng)\n",
    "        #perturb the weights of W_i\n",
    "        params['W_i'] = time_evolution_GOU(gou_key, params['W_i'], mu, theta, sigma, tau, dt )\n",
    "\n",
    "        grads = grad(loss_elm)(params, x, y)\n",
    "\n",
    "        params['W_i'] -= learning_rate * grads['W_i']\n",
    "        params['W_o'] -= learning_rate * grads['W_o']\n",
    "        params['b_i'] -= learning_rate * grads['b_i']\n",
    "        params['b_o'] -= learning_rate * grads['b_o']\n",
    "\n",
    "        mu += rate * (params['W_i'] - mu)\n",
    "        weight_list.append(params['W_i'].flatten())\n",
    "        mu_list.append(mu.flatten())\n",
    "\n",
    "    acc_list.append(accuracy_elm(params, X_train, y_train))\n",
    "    loss_list.append(loss_elm(params, X_train, y_train))\n",
    "\n",
    "\n",
    "    if epoch%10==0:\n",
    "        epoch_time = time.time() - start_time\n",
    "        train_loss = loss_elm(params, X_train, y_train)\n",
    "        train_acc = accuracy_elm(params, X_train, y_train)\n",
    "        print(\"Epoch {} in {:0.2f} sec\".format(epoch, epoch_time))\n",
    "        print(\"Training set loss {}\".format(train_loss))\n",
    "        print(\"Training set accuracy {}\".format(train_acc))"
   ],
   "id": "453a5027a2d1760d",
   "outputs": [],
   "execution_count": null
  },
  {
   "metadata": {},
   "cell_type": "code",
   "source": [
    "#plot the accuracy and loss\n",
    "\n",
    "fig, axs = plt.subplots(1,2, figsize=(8,4))\n",
    "axs[0].plot(acc_list)\n",
    "axs[0].set_title(\"Accuracy\")\n",
    "axs[0].set_ylim([0,1])\n",
    "\n",
    "axs[1].plot(loss_list)\n",
    "axs[1].set_title(\"Loss\")\n",
    "plt.show()\n"
   ],
   "id": "34f109f4df89ffa2",
   "outputs": [],
   "execution_count": null
  },
  {
   "metadata": {},
   "cell_type": "code",
   "source": "plot_weight_dynamics(np.array(weight_list), title=\"Weight Dynamics\", weights_to_show=100, show=True)",
   "id": "e10f56c4230a8b38",
   "outputs": [],
   "execution_count": null
  },
  {
   "metadata": {},
   "cell_type": "code",
   "source": "plot_weight_dynamics(np.array(mu_list), title=\"mu Dynamics\", weights_to_show=100, show=True)",
   "id": "ea776bf07aeec0a0",
   "outputs": [],
   "execution_count": null
  },
  {
   "metadata": {},
   "cell_type": "code",
   "source": [
    "plt.hist(mu.flatten(), bins=100)\n",
    "plt.show()"
   ],
   "id": "64b730752b7d3330",
   "outputs": [],
   "execution_count": null
  },
  {
   "metadata": {},
   "cell_type": "code",
   "source": [
    "plt.hist(params[\"W_i\"].flatten(), bins=100)\n",
    "plt.show()"
   ],
   "id": "d1d3368d2baabc1b",
   "outputs": [],
   "execution_count": null
  },
  {
   "metadata": {},
   "cell_type": "code",
   "source": [
    "plt.hist(params[\"W_i\"].flatten()-mu.flatten(), bins=100)\n",
    "plt.show()"
   ],
   "id": "fc5d16a9cba70bc2",
   "outputs": [],
   "execution_count": null
  },
  {
   "metadata": {},
   "cell_type": "markdown",
   "source": "### Testing",
   "id": "488f582351bc64eb"
  },
  {
   "metadata": {},
   "cell_type": "code",
   "source": [
    "test_loss_list = []\n",
    "test_acc_list = []\n",
    "test_weight_list = []\n",
    "test_mu_list = []\n",
    "\n",
    "for epoch in range(num_epochs):\n",
    "    for x,y in zip(X_train,y_train):\n",
    "\n",
    "        rng, gou_key = random.split(rng)\n",
    "        #perturb the weights of W_i\n",
    "        params['W_i'] = time_evolution_GOU(gou_key, params['W_i'], mu, theta, sigma, tau, dt )\n",
    "\n",
    "        test_weight_list.append(params['W_i'].flatten())\n",
    "        test_mu_list.append(mu.flatten())\n",
    "\n",
    "    test_acc_list.append(accuracy_elm(params, X_train, y_train))\n",
    "    test_loss_list.append(loss_elm(params, X_train, y_train))\n",
    "\n",
    "\n",
    "    if epoch%10==0:\n",
    "        train_loss = loss_elm(params, X_train, y_train)\n",
    "        train_acc = accuracy_elm(params, X_train, y_train)\n",
    "        print(\"Epoch {} in {:0.2f} sec\".format(epoch, epoch_time))\n",
    "        print(\"Training set loss {}\".format(train_loss))\n",
    "        print(\"Training set accuracy {}\".format(train_acc))"
   ],
   "id": "783b463e0892f3b9",
   "outputs": [],
   "execution_count": null
  },
  {
   "metadata": {},
   "cell_type": "code",
   "source": [
    "tot_loss_list =  loss_list + test_loss_list\n",
    "tot_acc_list = acc_list + test_acc_list"
   ],
   "id": "691d80b109c9f2ee",
   "outputs": [],
   "execution_count": null
  },
  {
   "metadata": {},
   "cell_type": "code",
   "source": [
    "fig, axs = plt.subplots(1,2, figsize=(8,4))\n",
    "axs[0].plot(tot_acc_list)\n",
    "axs[0].set_title(\"Accuracy\")\n",
    "axs[0].set_ylim([0,1])\n",
    "axs[0].axvline(x=num_epochs, color='k', linestyle='--')\n",
    "\n",
    "axs[1].plot(tot_loss_list)\n",
    "axs[1].set_title(\"Loss\")\n",
    "axs[1].axvline(x=num_epochs, color='k', linestyle='--')\n",
    "\n",
    "plt.savefig(\"weak_weights_adapt.png\")\n",
    "plt.show()\n",
    "\n"
   ],
   "id": "767e9ffde0fd559c",
   "outputs": [],
   "execution_count": null
  },
  {
   "metadata": {},
   "cell_type": "code",
   "source": "",
   "id": "197c8b7a1ea2e982",
   "outputs": [],
   "execution_count": null
  }
 ],
 "metadata": {
  "kernelspec": {
   "display_name": "Python 3",
   "language": "python",
   "name": "python3"
  },
  "language_info": {
   "codemirror_mode": {
    "name": "ipython",
    "version": 2
   },
   "file_extension": ".py",
   "mimetype": "text/x-python",
   "name": "python",
   "nbconvert_exporter": "python",
   "pygments_lexer": "ipython2",
   "version": "2.7.6"
  }
 },
 "nbformat": 4,
 "nbformat_minor": 5
}
