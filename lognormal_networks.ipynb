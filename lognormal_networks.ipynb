{
 "cells": [
  {
   "cell_type": "code",
   "execution_count": 1,
   "metadata": {
    "ExecuteTime": {
     "end_time": "2024-10-16T10:14:28.104791Z",
     "start_time": "2024-10-16T10:14:28.071597Z"
    },
    "collapsed": false,
    "jupyter": {
     "outputs_hidden": false
    },
    "pycharm": {
     "name": "#%%\n"
    }
   },
   "outputs": [],
   "source": [
    "%load_ext autoreload\n",
    "%autoreload 2"
   ]
  },
  {
   "cell_type": "code",
   "execution_count": 2,
   "metadata": {
    "ExecuteTime": {
     "end_time": "2024-10-16T10:14:30.460343Z",
     "start_time": "2024-10-16T10:14:28.612316Z"
    },
    "id": "zXtpO6ljuJrP",
    "pycharm": {
     "name": "#%%\n"
    }
   },
   "outputs": [
    {
     "name": "stdout",
     "output_type": "stream",
     "text": [
      "The autoreload extension is already loaded. To reload it, use:\n",
      "  %reload_ext autoreload\n"
     ]
    }
   ],
   "source": [
    "import jax.numpy as jnp\n",
    "from jax import grad, jit, vmap\n",
    "from jax import random\n",
    "\n",
    "import matplotlib.pyplot as plt\n",
    "\n",
    "import numpy as np\n",
    "\n",
    "from Utils.models import *\n",
    "from Utils.simulation import *\n",
    "from Utils.plot_utils import *\n",
    "\n",
    "import time\n",
    "from copy import copy\n",
    "\n",
    "%load_ext autoreload\n",
    "%autoreload 2"
   ]
  },
  {
   "cell_type": "markdown",
   "metadata": {
    "id": "FWhVGK28YqxY",
    "pycharm": {
     "name": "#%% md\n"
    }
   },
   "source": [
    "First we define some basics"
   ]
  },
  {
   "cell_type": "code",
   "execution_count": 3,
   "metadata": {
    "ExecuteTime": {
     "end_time": "2024-10-16T10:14:32.694263Z",
     "start_time": "2024-10-16T10:14:32.475570Z"
    },
    "id": "-ukYBsIa-BPX",
    "pycharm": {
     "name": "#%%\n"
    }
   },
   "outputs": [],
   "source": [
    "import json\n",
    "\n",
    "# Create a dictionary to store the parameters\n",
    "params_dict = {\n",
    "    \"dataset_parameters\": {\n",
    "        \"n_samples\": 200\n",
    "    },\n",
    "    \"network_parameters\": {\n",
    "        \"input_size\": 2**6,\n",
    "        \"hidden_size\": 2**7,\n",
    "        \"output_size\": 1,\n",
    "        \"bias\": 1,\n",
    "    },\n",
    "    \"training_parameters\": {\n",
    "        \"num_epochs\": 50,\n",
    "        \"learning_rate\": 0.1\n",
    "    },\n",
    "    \"simulation_parameters\": {\n",
    "        \"mu\": 1,\n",
    "        \"sigma\": 0.1,\n",
    "        \"theta\": 0.5,\n",
    "        \"dt\": 0.001\n",
    "    },\n",
    "    \"seed\": 42\n",
    "}\n",
    "\n",
    "# Save the dictionary as a JSON file\n",
    "# with open('simulation_parameters.json', 'w') as json_file:\n",
    "#     json.dump(params_dict, json_file, indent=4)\n",
    "rng = random.key(params_dict[\"seed\"])"
   ]
  },
  {
   "cell_type": "code",
   "execution_count": 4,
   "metadata": {
    "ExecuteTime": {
     "end_time": "2024-10-16T10:14:33.457858Z",
     "start_time": "2024-10-16T10:14:33.371477Z"
    },
    "collapsed": false,
    "jupyter": {
     "outputs_hidden": false
    },
    "pycharm": {
     "name": "#%%\n"
    }
   },
   "outputs": [
    {
     "data": {
      "text/plain": [
       "Array(0.10025112, dtype=float32, weak_type=True)"
      ]
     },
     "execution_count": 4,
     "metadata": {},
     "output_type": "execute_result"
    }
   ],
   "source": [
    "mu_LN = mu_LN_from_params(**params_dict[\"simulation_parameters\"])\n",
    "sigma_LN = sigma_LN_from_params(**params_dict[\"simulation_parameters\"])\n",
    "\n",
    "sigma_LN"
   ]
  },
  {
   "cell_type": "code",
   "execution_count": 5,
   "metadata": {
    "ExecuteTime": {
     "end_time": "2024-10-16T10:14:35.316013Z",
     "start_time": "2024-10-16T10:14:34.154422Z"
    },
    "id": "S3aJSCo38EaQ",
    "pycharm": {
     "name": "#%%\n"
    }
   },
   "outputs": [],
   "source": [
    "rng, net_key = random.split(rng)\n",
    "params = init_mlp(net_key, mu_LN, sigma_LN, **params_dict[\"network_parameters\"])\n",
    "W_h_init = copy(params['W_h'])"
   ]
  },
  {
   "cell_type": "markdown",
   "metadata": {
    "id": "EF36upl-ZWZC",
    "pycharm": {
     "name": "#%% md\n"
    }
   },
   "source": [
    "We create a stupid dataset made of binary arrays to be matched with a binary output."
   ]
  },
  {
   "cell_type": "code",
   "execution_count": 6,
   "metadata": {
    "ExecuteTime": {
     "end_time": "2024-10-16T10:14:37.289275Z",
     "start_time": "2024-10-16T10:14:36.376878Z"
    },
    "id": "ZIjyRf1w8Nl1",
    "pycharm": {
     "name": "#%%\n"
    }
   },
   "outputs": [],
   "source": [
    "rng, data_key = random.split(rng)\n",
    "\n",
    "X_train, y_train = create_binary_dataset(data_key, n_samples=params_dict[\"dataset_parameters\"][\"n_samples\"], input_dim=params_dict[\"network_parameters\"][\"input_size\"])\n"
   ]
  },
  {
   "cell_type": "code",
   "execution_count": 8,
   "metadata": {
    "ExecuteTime": {
     "end_time": "2024-10-16T10:14:56.889059Z",
     "start_time": "2024-10-16T10:14:56.870903Z"
    }
   },
   "outputs": [
    {
     "name": "stdout",
     "output_type": "stream",
     "text": [
      "(200, 64)\n",
      "(200, 1)\n"
     ]
    }
   ],
   "source": [
    "print(X_train.shape)\n",
    "print(forward_mlp(params, X_train).shape)"
   ]
  },
  {
   "cell_type": "code",
   "execution_count": null,
   "metadata": {
    "ExecuteTime": {
     "end_time": "2024-10-16T10:14:45.118276Z",
     "start_time": "2024-10-16T10:14:37.294444Z"
    },
    "colab": {
     "base_uri": "https://localhost:8080/"
    },
    "id": "wWPCVs1mRd83",
    "outputId": "aaaa76ae-2740-4af5-dea7-3dbe7bdaf268",
    "pycharm": {
     "name": "#%%\n"
    }
   },
   "outputs": [],
   "source": [
    "\n",
    "\n",
    "loss_list = []\n",
    "acc_list = []\n",
    "\n",
    "train_weights_lists = {'W_i': [], 'W_h': [], 'W_o': []}\n",
    "\n",
    "training_parameters = params_dict[\"training_parameters\"]\n",
    "num_epochs = training_parameters[\"num_epochs\"]\n",
    "learning_rate = training_parameters[\"learning_rate\"]\n",
    "simulation_parameters = params_dict[\"simulation_parameters\"]\n",
    "\n",
    "for epoch in range(num_epochs):\n",
    "    start_time = time.time()\n",
    "    for x,y in zip(X_train,y_train):\n",
    "\n",
    "        rng, gou_key = random.split(rng)\n",
    "\n",
    "        grads = grad(loss_mlp)(params, x, y)\n",
    "        params['W_i'] -= learning_rate*grads['W_i']\n",
    "        params['W_h'] -= learning_rate*grads['W_h']-perturb_GOU(gou_key, params['W_h'],  **simulation_parameters )\n",
    "        params['W_o'] -= learning_rate*grads['W_o']\n",
    "\n",
    "\n",
    "\n",
    "        # params['W_h'] += perturb_GOU(gou_key, params['W_h'],  **simulation_parameters )\n",
    "        #\n",
    "\n",
    "        train_weights_lists['W_i'].append(params['W_i'])\n",
    "        train_weights_lists['W_h'].append(params['W_h'])\n",
    "        train_weights_lists['W_o'].append(params['W_o'])\n",
    "\n",
    "    acc_list.append(accuracy_mlp(params, X_train, y_train))\n",
    "    loss_list.append(loss_mlp(params, X_train, y_train))\n",
    "\n",
    "\n",
    "    if epoch%10==0:\n",
    "        epoch_time = time.time() - start_time\n",
    "        train_loss = loss_mlp(params, X_train, y_train)\n",
    "        train_acc = accuracy_mlp(params, X_train, y_train)\n",
    "        print(\"Epoch {} in {:0.2f} sec\".format(epoch, epoch_time))\n",
    "        print(\"Training set loss {}\".format(train_loss))\n",
    "        print(\"Training set accuracy {}\".format(train_acc))\n",
    "\n",
    "\n",
    "for epoch in range(num_epochs):\n",
    "    start_time = time.time()\n",
    "    for x,y in zip(X_train,y_train):\n",
    "\n",
    "\n",
    "        rng, gou_key = random.split(rng)\n",
    "        params['W_h'] += perturb_GOU(gou_key, params['W_h'],  **simulation_parameters )\n",
    "\n",
    "    acc_list.append(accuracy_mlp(params, X_train, y_train))\n",
    "    loss_list.append(loss_mlp(params, X_train, y_train))\n",
    "\n",
    "\n",
    "    if epoch%10==0:\n",
    "        epoch_time = time.time() - start_time\n",
    "        train_loss = loss_mlp(params, X_train, y_train)\n",
    "        train_acc = accuracy_mlp(params, X_train, y_train)\n",
    "        print(\"Epoch {} in {:0.2f} sec\".format(epoch, epoch_time))\n",
    "        print(\"Training set loss {}\".format(train_loss))\n",
    "        print(\"Training set accuracy {}\".format(train_acc))"
   ]
  },
  {
   "cell_type": "code",
   "execution_count": null,
   "metadata": {
    "collapsed": false,
    "jupyter": {
     "outputs_hidden": false
    },
    "pycharm": {
     "name": "#%%\n"
    }
   },
   "outputs": [],
   "source": [
    "\n"
   ]
  },
  {
   "cell_type": "code",
   "execution_count": null,
   "metadata": {
    "collapsed": false,
    "jupyter": {
     "outputs_hidden": false
    },
    "pycharm": {
     "name": "#%%\n"
    }
   },
   "outputs": [],
   "source": []
  },
  {
   "cell_type": "code",
   "execution_count": null,
   "metadata": {
    "collapsed": false,
    "jupyter": {
     "outputs_hidden": false
    },
    "pycharm": {
     "name": "#%%\n"
    }
   },
   "outputs": [],
   "source": [
    "train_weights_lists['W_h'] = np.array(train_weights_lists['W_h']).reshape(num_epochs*params_dict[\"dataset_parameters\"][\"n_samples\"], -1)\n",
    "train_weights_lists['W_i'] = np.array(train_weights_lists['W_i']).reshape(num_epochs*params_dict[\"dataset_parameters\"][\"n_samples\"], -1)\n",
    "train_weights_lists['W_o'] = np.array(train_weights_lists['W_o']).reshape(num_epochs*params_dict[\"dataset_parameters\"][\"n_samples\"], -1)\n"
   ]
  },
  {
   "cell_type": "code",
   "execution_count": null,
   "metadata": {
    "collapsed": false,
    "jupyter": {
     "outputs_hidden": false
    },
    "pycharm": {
     "name": "#%%\n"
    }
   },
   "outputs": [],
   "source": [
    "\n",
    "#plot the loss and accuracy in 2 subplots\n",
    "\n",
    "plt.figure(figsize=(12, 4))\n",
    "plt.subplot(1, 2, 1)\n",
    "plt.plot(loss_list)\n",
    "plt.ylim([0, 3])\n",
    "plt.title('Loss')\n",
    "plt.axvline(x=num_epochs, color='r', linestyle='--')\n",
    "plt.subplot(1, 2, 2)\n",
    "plt.plot(acc_list)\n",
    "plt.ylim([0, 1.1])\n",
    "plt.title('Accuracy')\n",
    "#draw a vertical line at the end of the training\n",
    "plt.axvline(x=num_epochs, color='r', linestyle='--')\n",
    "\n",
    "plt.savefig(\"loss_acc_test.png\")\n",
    "plt.show()"
   ]
  },
  {
   "cell_type": "code",
   "execution_count": null,
   "metadata": {
    "collapsed": false,
    "jupyter": {
     "outputs_hidden": false
    },
    "pycharm": {
     "name": "#%%\n"
    }
   },
   "outputs": [],
   "source": [
    "\n",
    "#plot weight dynamics\n",
    "name = \"W_h\"\n",
    "\n",
    "plot_weight_dynamics(train_weights_lists[name], \"Weight Dynamics\", weights_to_show=600)\n",
    "#plot_weight_dynamics(train_weights_lists[name], \"Weight Dynamics\", weights_to_show=500, log=True)\n"
   ]
  },
  {
   "cell_type": "code",
   "execution_count": null,
   "metadata": {
    "colab": {
     "base_uri": "https://localhost:8080/",
     "height": 843
    },
    "id": "c5HYJ3_KCpSj",
    "outputId": "43d06283-7327-4ae7-a031-3d6fb6d3c404",
    "pycharm": {
     "name": "#%%\n"
    }
   },
   "outputs": [],
   "source": [
    "plot_weights(params['W_h'], \"Final Weights\")\n",
    "# initial weights\n",
    "plot_weights(W_h_init, \"Initial Weights\")\n",
    "\n",
    "delta = params['W_h'] - W_h_init\n",
    "\n",
    "plot_weights(delta, \"Weight Variation\")"
   ]
  },
  {
   "cell_type": "markdown",
   "metadata": {
    "collapsed": false,
    "jupyter": {
     "outputs_hidden": false
    },
    "pycharm": {
     "name": "#%% md\n"
    }
   },
   "source": [
    "# EIGENVLAUES\n",
    "---------------------------------------------"
   ]
  },
  {
   "cell_type": "code",
   "execution_count": null,
   "metadata": {
    "colab": {
     "base_uri": "https://localhost:8080/",
     "height": 499
    },
    "id": "7ZgMfyxUM0n-",
    "outputId": "9a6890d0-89a5-405f-b5d0-4eda0f40e086",
    "pycharm": {
     "name": "#%%\n"
    }
   },
   "outputs": [],
   "source": [
    "plot_eigenvalues(params['W_h'], W_h_init, bias = params_dict[\"network_parameters\"][\"bias\"], log=False)\n",
    "plot_eigenvalues(params['W_h'], W_h_init, bias = params_dict[\"network_parameters\"][\"bias\"], log=True)"
   ]
  },
  {
   "cell_type": "code",
   "execution_count": null,
   "metadata": {
    "id": "lW1ObIZ3OARi",
    "pycharm": {
     "name": "#%%\n"
    }
   },
   "outputs": [],
   "source": []
  },
  {
   "cell_type": "code",
   "execution_count": null,
   "metadata": {
    "collapsed": false,
    "jupyter": {
     "outputs_hidden": false
    },
    "pycharm": {
     "name": "#%%\n"
    }
   },
   "outputs": [],
   "source": [
    "# check the initial weights dynamics with no learning\n",
    "\n",
    "rng, pert_key = random.split(rng)\n",
    "W_h_perturb = copy(W_h_init)\n",
    "\n",
    "perturbed_weight_list = simulate_perturbation_only(pert_key,\n",
    "                                         W_h_perturb,\n",
    "                                         n_steps=num_epochs*len(X_train),\n",
    "                                        **simulation_parameters)\n",
    "\n",
    "\n",
    "final_weights = perturbed_weight_list[-1]"
   ]
  },
  {
   "cell_type": "code",
   "execution_count": null,
   "metadata": {
    "collapsed": false,
    "jupyter": {
     "outputs_hidden": false
    },
    "pycharm": {
     "name": "#%%\n"
    }
   },
   "outputs": [],
   "source": [
    "plot_weights(final_weights, \"Final Perturbed Weights\")\n",
    "\n",
    "plot_weights(W_h_init, \"Initial Weights\")"
   ]
  },
  {
   "cell_type": "code",
   "execution_count": null,
   "metadata": {
    "collapsed": false,
    "jupyter": {
     "outputs_hidden": false
    },
    "pycharm": {
     "name": "#%%\n"
    }
   },
   "outputs": [],
   "source": [
    "plot_weights(final_weights - W_h_init, \"Weight Variation\")"
   ]
  },
  {
   "cell_type": "code",
   "execution_count": null,
   "metadata": {
    "collapsed": false,
    "jupyter": {
     "outputs_hidden": false
    },
    "pycharm": {
     "name": "#%%\n"
    }
   },
   "outputs": [],
   "source": [
    "plot_weight_dynamics(perturbed_weight_list.reshape(perturbed_weight_list.shape[0], -1), \"Weight Dynamics (only GOU)\")"
   ]
  },
  {
   "cell_type": "code",
   "execution_count": null,
   "metadata": {
    "collapsed": false,
    "jupyter": {
     "outputs_hidden": false
    },
    "pycharm": {
     "name": "#%%\n"
    }
   },
   "outputs": [],
   "source": [
    "W_h_init.mean()"
   ]
  },
  {
   "cell_type": "code",
   "execution_count": null,
   "metadata": {
    "collapsed": false,
    "jupyter": {
     "outputs_hidden": false
    },
    "pycharm": {
     "name": "#%%\n"
    }
   },
   "outputs": [],
   "source": [
    "final_weights.mean()"
   ]
  },
  {
   "cell_type": "code",
   "execution_count": null,
   "metadata": {
    "collapsed": false,
    "jupyter": {
     "outputs_hidden": false
    },
    "pycharm": {
     "name": "#%%\n"
    }
   },
   "outputs": [],
   "source": [
    "W_h_init.var()"
   ]
  },
  {
   "cell_type": "code",
   "execution_count": null,
   "metadata": {
    "collapsed": false,
    "jupyter": {
     "outputs_hidden": false
    },
    "pycharm": {
     "name": "#%%\n"
    }
   },
   "outputs": [],
   "source": [
    "final_weights.var()\n"
   ]
  },
  {
   "cell_type": "code",
   "execution_count": null,
   "metadata": {
    "collapsed": false,
    "jupyter": {
     "outputs_hidden": false
    },
    "pycharm": {
     "name": "#%%\n"
    }
   },
   "outputs": [],
   "source": []
  },
  {
   "cell_type": "code",
   "execution_count": null,
   "metadata": {
    "collapsed": false,
    "jupyter": {
     "outputs_hidden": false
    },
    "pycharm": {
     "name": "#%%\n"
    }
   },
   "outputs": [],
   "source": []
  },
  {
   "cell_type": "code",
   "execution_count": null,
   "metadata": {
    "collapsed": false,
    "jupyter": {
     "outputs_hidden": false
    },
    "pycharm": {
     "name": "#%%\n"
    }
   },
   "outputs": [],
   "source": [
    "print(X_train.shape)"
   ]
  },
  {
   "cell_type": "code",
   "execution_count": null,
   "metadata": {},
   "outputs": [],
   "source": []
  }
 ],
 "metadata": {
  "colab": {
   "provenance": []
  },
  "kernelspec": {
   "display_name": "Python 3 (ipykernel)",
   "language": "python",
   "name": "python3"
  },
  "language_info": {
   "codemirror_mode": {
    "name": "ipython",
    "version": 3
   },
   "file_extension": ".py",
   "mimetype": "text/x-python",
   "name": "python",
   "nbconvert_exporter": "python",
   "pygments_lexer": "ipython3",
   "version": "3.11.9"
  }
 },
 "nbformat": 4,
 "nbformat_minor": 4
}
